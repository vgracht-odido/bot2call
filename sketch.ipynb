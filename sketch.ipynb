{
 "cells": [
  {
   "cell_type": "code",
   "execution_count": 7,
   "id": "decca941",
   "metadata": {},
   "outputs": [
    {
     "data": {
      "text/plain": [
       "True"
      ]
     },
     "execution_count": 7,
     "metadata": {},
     "output_type": "execute_result"
    }
   ],
   "source": [
    "from dotenv import load_dotenv\n",
    "\n",
    "load_dotenv()"
   ]
  },
  {
   "cell_type": "code",
   "execution_count": 2,
   "id": "b7d39de5",
   "metadata": {},
   "outputs": [],
   "source": [
    "from google.cloud.firestore import Client as FirestoreClient\n",
    "\n",
    "from chat_history_service import ChatHistoryService\n",
    "from llm_request_service import LLMRequestService"
   ]
  },
  {
   "cell_type": "code",
   "execution_count": null,
   "id": "53c94e65",
   "metadata": {},
   "outputs": [],
   "source": [
    "def get_chat_history_from_firestore(session_id: str) -> list[dict]:\n",
    "    \"\"\"\n",
    "    Fetch chat history from Firestore for a given session ID.\n",
    "    \n",
    "    Args:\n",
    "        session_id (str): The session ID to fetch chat history for.\n",
    "    \n",
    "    Returns:\n",
    "        list[dict]: List of chat messages in the session.\n",
    "    \"\"\"\n",
    "    chat_history_service = ChatHistoryService()\n",
    "    chat_history = chat_history_service.get_chat_history_by_id(session_id)\n",
    "    chat_history = sorted(chat_history, key=lambda x: x.get(\"create_time\", \"\"))\n",
    "    return chat_history"
   ]
  },
  {
   "cell_type": "code",
   "execution_count": 4,
   "id": "e4189865",
   "metadata": {},
   "outputs": [],
   "source": [
    "def call_llm_service(conversation: str, prompt: str = \"\") -> str:\n",
    "    \"\"\"\n",
    "    Call the LLM service to summarize the chat history.\n",
    "    Args:\n",
    "        conversation (str): The chat history to summarize.\n",
    "        prompt (str): The prompt to send to the LLM service.\n",
    "            If not provided, the default prompt will be fetched from Firestore.\n",
    "    Returns:\n",
    "        str: The summary of the chat history.\n",
    "    \"\"\"\n",
    "    llm_request_service = LLMRequestService()\n",
    "    chat_history_summary = llm_request_service.summarize_conversation(\n",
    "        conversation, prompt\n",
    "    )\n",
    "    return chat_history_summary"
   ]
  },
  {
   "cell_type": "markdown",
   "id": "1bf90c11",
   "metadata": {},
   "source": [
    "## Manage Prompt"
   ]
  },
  {
   "cell_type": "code",
   "execution_count": null,
   "id": "43902853",
   "metadata": {},
   "outputs": [],
   "source": [
    "# Create a prompt that eventually contains the variable {text}\n",
    "# The chat history will be concatenated into this prompt via this variable\n",
    "prompt = \"\""
   ]
  },
  {
   "cell_type": "markdown",
   "id": "9eaa888a",
   "metadata": {},
   "source": [
    "### Update the prompt in Firestore Database (code uses the uploaded one)"
   ]
  },
  {
   "cell_type": "code",
   "execution_count": null,
   "id": "d8af5022",
   "metadata": {},
   "outputs": [],
   "source": [
    "firestore_client = FirestoreClient()\n",
    "collection = firestore_client.collection(\"llm-prompts\")\n",
    "document = collection.document(\"fulfillment-webhook\")\n",
    "document.update({\"summarize-chat-conversation\": prompt})"
   ]
  },
  {
   "cell_type": "markdown",
   "id": "16afa7f1",
   "metadata": {},
   "source": [
    "# Gather Conversation"
   ]
  },
  {
   "cell_type": "markdown",
   "id": "134ba62a",
   "metadata": {},
   "source": [
    "### Get conversation from session_id in Development"
   ]
  },
  {
   "cell_type": "code",
   "execution_count": 9,
   "id": "99a5dcf7",
   "metadata": {},
   "outputs": [
    {
     "data": {
      "text/plain": [
       "'Mobiel\\nvideoland\\nAanvragen'"
      ]
     },
     "execution_count": 9,
     "metadata": {},
     "output_type": "execute_result"
    }
   ],
   "source": [
    "session_id = \"20e62f9c-be3e-4d6e-978b-7d67dd5f10e8\" # Replace with your actual session ID\n",
    "conversation = get_chat_history_from_firestore(session_id)\n",
    "conversation"
   ]
  },
  {
   "cell_type": "code",
   "execution_count": null,
   "id": "eab8d481",
   "metadata": {},
   "outputs": [],
   "source": []
  }
 ],
 "metadata": {
  "kernelspec": {
   "display_name": ".venv",
   "language": "python",
   "name": "python3"
  },
  "language_info": {
   "codemirror_mode": {
    "name": "ipython",
    "version": 3
   },
   "file_extension": ".py",
   "mimetype": "text/x-python",
   "name": "python",
   "nbconvert_exporter": "python",
   "pygments_lexer": "ipython3",
   "version": "3.11.9"
  }
 },
 "nbformat": 4,
 "nbformat_minor": 5
}
